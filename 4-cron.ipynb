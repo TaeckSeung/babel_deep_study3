{
 "cells": [
  {
   "cell_type": "code",
   "execution_count": 33,
   "metadata": {},
   "outputs": [],
   "source": [
    "# 바벨딥 3회차 - 웹 크롤링 Part.2\n",
    "# Crontab 활용 스크립트\n",
    "# Author : Taeckseung Oh <zbase000@gmail.com>\n",
    "# Date : 2018.03.16\n",
    "from bs4 import BeautifulSoup\n",
    "import urllib.request as req\n",
    "import datetime\n",
    "\n",
    "# 다음 주식에서 정보가져오기\n",
    "url = \"http://finance.daum.net/item/main.daum?code=005930&nil_profile=vsearch&nil_src=stock\"\n",
    "res = req.urlopen(url)\n",
    "\n",
    "# Beautiful Soup으로 HTML 분석\n",
    "soup = BeautifulSoup(res, \"html.parser\")\n",
    "\n",
    "# 데이터 추출\n",
    "top = soup.find(class_=\"list_stockrate\")\n",
    "price = top.find(\"em\").string"
   ]
  },
  {
   "cell_type": "code",
   "execution_count": 35,
   "metadata": {},
   "outputs": [
    {
     "name": "stdout",
     "output_type": "stream",
     "text": [
      "saved\n"
     ]
    }
   ],
   "source": [
    "t = datetime.date.today()\n",
    "fname = t.strftime(\"%Y-%m-%d\")\n",
    "fname = 'samsung' + fname\n",
    "with open(fname, \"w\", encoding=\"utf-8\") as f:\n",
    "    f.write(price)\n",
    "    print('saved')"
   ]
  },
  {
   "cell_type": "code",
   "execution_count": null,
   "metadata": {},
   "outputs": [],
   "source": []
  }
 ],
 "metadata": {
  "kernelspec": {
   "display_name": "Python 3",
   "language": "python",
   "name": "python3"
  },
  "language_info": {
   "codemirror_mode": {
    "name": "ipython",
    "version": 3
   },
   "file_extension": ".py",
   "mimetype": "text/x-python",
   "name": "python",
   "nbconvert_exporter": "python",
   "pygments_lexer": "ipython3",
   "version": "3.6.3"
  }
 },
 "nbformat": 4,
 "nbformat_minor": 2
}
