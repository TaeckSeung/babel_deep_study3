{
 "cells": [
  {
   "cell_type": "code",
   "execution_count": 67,
   "metadata": {},
   "outputs": [],
   "source": [
    "# 바벨딥 3회차 - 웹 크롤링 Part.2\n",
    "# Selenium기반 네이버 로그인 및 영화 정보 크롤링\n",
    "# Author : Taeckseung Oh <zbase000@gmail.com>\n",
    "# Date : 2018.03.16\n",
    "from selenium import webdriver\n",
    "from bs4 import BeautifulSoup\n",
    "\n",
    "#윈도우 환경\n",
    "driver = webdriver.Chrome('./chromedriver.exe')\n",
    "#맥 혹은 리눅스 \n",
    "#driver = webdriver.Chrome('./chromedriver')\n",
    "driver.implicitly_wait(3)\n",
    "# url에 접근한다.\n",
    "driver.get('https://nid.naver.com/nidlogin.login')"
   ]
  },
  {
   "cell_type": "code",
   "execution_count": 22,
   "metadata": {},
   "outputs": [],
   "source": [
    "# send_keys에 개인의 아이디/비밀번호를 입력합니다.\n",
    "driver.find_element_by_name('id').clear()\n",
    "driver.find_element_by_name('pw').clear()\n",
    "driver.find_element_by_name('id').send_keys('test_id')\n",
    "driver.find_element_by_name('pw').send_keys('test_pw')\n"
   ]
  },
  {
   "cell_type": "code",
   "execution_count": 23,
   "metadata": {},
   "outputs": [],
   "source": [
    "# 로그인 버튼을 클릭\n",
    "driver.find_element_by_class_name('btn_global').click()"
   ]
  },
  {
   "cell_type": "code",
   "execution_count": 68,
   "metadata": {},
   "outputs": [],
   "source": [
    "driver.get('https://movie.naver.com/')"
   ]
  },
  {
   "cell_type": "code",
   "execution_count": 69,
   "metadata": {},
   "outputs": [],
   "source": [
    "driver.find_element_by_id('ipt_tx_srch').clear()\n",
    "driver.find_element_by_id('ipt_tx_srch').send_keys('어벤져스')\n",
    "driver.find_element_by_class_name('btn_srch').click()"
   ]
  },
  {
   "cell_type": "code",
   "execution_count": 60,
   "metadata": {},
   "outputs": [],
   "source": [
    "# driver로 현재 페이지 소스를 가져옵니다.\n",
    "html = driver.page_source\n",
    "# 가져온 소스를 BeautifulSoup으로 파싱합니다.\n",
    "soup = BeautifulSoup(html, 'html.parser')\n",
    "# 1차로 영화 제목 결과가 보여지는 클래스를 찾습니다.\n",
    "result = soup.find(\"ul\",{\"class\":\"search_list_1\"})\n",
    "# 각 영화 타이틀이 dt 선택자를 통해 명시되어 있으므로 dt태그를 파싱합니다\n",
    "title = result.find_all('dt')"
   ]
  },
  {
   "cell_type": "code",
   "execution_count": 66,
   "metadata": {},
   "outputs": [
    {
     "name": "stdout",
     "output_type": "stream",
     "text": [
      "['어벤져스: 인피니티 워 (Avengers: Infinity War)', '어벤저스 (The Avengers)', '어벤져스 (The Avengers)', '어벤져스: 에이지 오브 울트론 (The Avengers: Age of Ultron)', '어벤져스 어셈블 (Avengers Assemble)']\n"
     ]
    }
   ],
   "source": [
    "# 파싱된 타이틀명을 텍스트로 가져와 리스트로 만들어줍니다.\n",
    "title_list = []\n",
    "for x in title:\n",
    "    title_list.append(x.get_text())\n",
    "print(title_list)"
   ]
  },
  {
   "cell_type": "code",
   "execution_count": null,
   "metadata": {},
   "outputs": [],
   "source": []
  }
 ],
 "metadata": {
  "kernelspec": {
   "display_name": "Python 3",
   "language": "python",
   "name": "python3"
  },
  "language_info": {
   "codemirror_mode": {
    "name": "ipython",
    "version": 3
   },
   "file_extension": ".py",
   "mimetype": "text/x-python",
   "name": "python",
   "nbconvert_exporter": "python",
   "pygments_lexer": "ipython3",
   "version": "3.6.3"
  }
 },
 "nbformat": 4,
 "nbformat_minor": 2
}
